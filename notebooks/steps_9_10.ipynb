{
 "cells": [
  {
   "cell_type": "code",
   "execution_count": null,
   "id": "6a4dfc6f",
   "metadata": {},
   "outputs": [],
   "source": [
    "import joblib\n",
    "from src.preprocessing import get_preprocessed_data\n",
    "from sklearn.model_selection import train_test_split"
   ]
  },
  {
   "cell_type": "code",
   "execution_count": null,
   "id": "3fbf476d",
   "metadata": {},
   "outputs": [],
   "source": [
    "model = joblib.load(r\"../models/black_box_xgboost.pkl\")\n",
    "df, _, _, true_labels, pct_afroamericans = get_preprocessed_data()\n",
    "\n",
    "X_train, X_test, y_train, y_test = train_test_split(\n",
    "    df,\n",
    "    true_labels,\n",
    "    test_size=0.2,\n",
    "    random_state=42,\n",
    "    stratify=true_labels,\n",
    ")\n"
   ]
  },
  {
   "cell_type": "markdown",
   "id": "3e1083a8",
   "metadata": {},
   "source": [
    "## Fairness"
   ]
  },
  {
   "cell_type": "markdown",
   "id": "1e28db4c",
   "metadata": {},
   "source": [
    "### Discussions"
   ]
  },
  {
   "cell_type": "markdown",
   "id": "01c53d21",
   "metadata": {},
   "source": [
    "Only variable we have : Pct_afro_american\n",
    "\n",
    "What we want : binary variable assessing whether or not the person is afro-american"
   ]
  },
  {
   "cell_type": "markdown",
   "id": "1bbac971",
   "metadata": {},
   "source": [
    "4 possibilities to classify people as afro-american :\n",
    "- If they live in an area with over 50% AAs\n",
    "- If they live in an area with more AAs than average\n",
    "- If they are among the people living in the most densely populated areas\n",
    "- Randomly based on probabilities"
   ]
  },
  {
   "cell_type": "code",
   "execution_count": null,
   "id": "61051f77",
   "metadata": {},
   "outputs": [],
   "source": [
    "from src.utils import quantile_binary, random_binary, over_pct_binary"
   ]
  },
  {
   "cell_type": "code",
   "execution_count": null,
   "id": "74676e97",
   "metadata": {},
   "outputs": [],
   "source": [
    "is_afroamerican_50_pct = over_pct_binary(pct_afroamericans, .5)\n",
    "is_afroamerican_avg = over_pct_binary(pct_afroamericans, pct_afroamericans.mean())\n",
    "is_afroamerican_qb = quantile_binary(pct_afroamericans, pct_afroamericans.mean())\n",
    "is_afroamerican_rb = random_binary(pct_afroamericans, seed=2025)\n",
    "\n",
    "means = [\n",
    "    is_afroamerican_50_pct.mean(),\n",
    "    is_afroamerican_avg.mean(),\n",
    "    is_afroamerican_qb.mean(),\n",
    "    is_afroamerican_rb.mean()\n",
    "]\n",
    "names = [\n",
    "    \"Over 50%\",\n",
    "    \"Over Average\",\n",
    "    \"Quantile-based\",\n",
    "    \"Random-based\"\n",
    "]"
   ]
  },
  {
   "cell_type": "markdown",
   "id": "029be003",
   "metadata": {},
   "source": [
    "### Plot"
   ]
  },
  {
   "cell_type": "code",
   "execution_count": null,
   "id": "576d43e6",
   "metadata": {},
   "outputs": [],
   "source": [
    "import matplotlib.pyplot as plt"
   ]
  },
  {
   "cell_type": "code",
   "execution_count": null,
   "id": "1d6f87ef",
   "metadata": {},
   "outputs": [],
   "source": [
    "plt.barh(names[::-1], means[::-1])\n",
    "plt.xlabel(\"Proportion of individuals classified as Afro-American\")\n",
    "plt.title(\"Different definitions of Afro-American individuals\")\n",
    "plt.show()"
   ]
  },
  {
   "cell_type": "markdown",
   "id": "174d97be",
   "metadata": {},
   "source": [
    "## Fairness tests and plots"
   ]
  },
  {
   "cell_type": "code",
   "execution_count": null,
   "id": "eb308f75",
   "metadata": {},
   "outputs": [],
   "source": [
    "from src.fairness import fairness_test_statistic, fairness_partial_dependance_plots\n",
    "import constants.column_names as cst\n",
    "import numpy as np"
   ]
  },
  {
   "cell_type": "markdown",
   "id": "34e3ab9b",
   "metadata": {},
   "source": [
    "### Fairness tests"
   ]
  },
  {
   "cell_type": "code",
   "execution_count": null,
   "id": "d052b97b",
   "metadata": {},
   "outputs": [],
   "source": [
    "fairness_50_pct = fairness_test_statistic(X_test, model, is_afroamerican_50_pct.loc[X_test.index])\n",
    "fairness_avg = fairness_test_statistic(X_test, model, is_afroamerican_avg.loc[X_test.index])\n",
    "fairness_qb = fairness_test_statistic(X_test, model, is_afroamerican_qb.loc[X_test.index])\n",
    "fairness_rb = fairness_test_statistic(X_test, model, is_afroamerican_rb.loc[X_test.index])\n",
    "\n",
    "fairnesses = [ fairness_50_pct, fairness_avg, fairness_qb, fairness_rb ]"
   ]
  },
  {
   "cell_type": "code",
   "execution_count": null,
   "id": "2fa20586",
   "metadata": {},
   "outputs": [],
   "source": [
    "plt.barh(names[::-1], np.log10(fairnesses[::-1]))\n",
    "plt.xlabel(\"Log of Fairness Test Statistic (p-value)\")\n",
    "plt.title(\"Fairness Test Statistics by Group\")\n",
    "plt.show()"
   ]
  },
  {
   "cell_type": "code",
   "execution_count": null,
   "id": "0a7b3bed",
   "metadata": {},
   "outputs": [],
   "source": [
    "import pandas as pd\n",
    "import seaborn as sns\n",
    "\n",
    "is_afroamerican_rb_test = is_afroamerican_rb.loc[X_test.index]\n",
    "crosstab = pd.crosstab(1*is_afroamerican_rb_test, model.predict(X_test), rownames=['Afro-American'], colnames=['Predicted Default'])\n",
    "pct_crosstab = crosstab.div(crosstab.sum(axis=1), axis=0)\n",
    "sns.heatmap(crosstab, annot=True)\n",
    "plt.savefig(\"../results/fairness/contingency_table.png\")\n",
    "plt.title(\"Count of predicted default by Afro-American status\")\n",
    "plt.show()\n",
    "sns.heatmap(pct_crosstab, annot=True)\n",
    "plt.title(\"Proportion of predicted default by Afro-American status\")\n",
    "plt.savefig(\"../results/fairness/contingency_table_pct.png\")\n",
    "plt.show()"
   ]
  },
  {
   "cell_type": "markdown",
   "id": "3dd6a3b8",
   "metadata": {},
   "source": [
    "### Analysis of the influence of randomness on the results"
   ]
  },
  {
   "cell_type": "code",
   "execution_count": null,
   "id": "b19aaf43",
   "metadata": {},
   "outputs": [],
   "source": [
    "res_fairness_random = []\n",
    "for _ in range(100):\n",
    "    is_afroamerican_rb_randomness_test = random_binary(pct_afroamericans, seed=None)\n",
    "    res_fairness_random.append(fairness_test_statistic(X_test, model, is_afroamerican_rb_randomness_test.loc[X_test.index]))\n",
    "np.mean(res_fairness_random), np.std(res_fairness_random)\n",
    "\n",
    "plt.boxplot(res_fairness_random)\n",
    "plt.axhline(y=0.05, color='r', linestyle='--', label='Fairness Test Statistic for Random-based definition')\n",
    "plt.show()\n",
    "\n",
    "plt.boxplot(np.log(res_fairness_random))\n",
    "plt.axhline(y=np.log(0.05), color='r', linestyle='--', label='Fairness Test Statistic for Random-based definition')\n",
    "plt.show()"
   ]
  },
  {
   "cell_type": "markdown",
   "id": "097faf3c",
   "metadata": {},
   "source": [
    "### FPDPs"
   ]
  },
  {
   "cell_type": "code",
   "execution_count": null,
   "id": "b09d03d4",
   "metadata": {},
   "outputs": [],
   "source": [
    "is_afroamerican_50_pct_test = is_afroamerican_50_pct.loc[X_test.index]\n",
    "fairness_partial_dependance_plots(X_test, model, is_afroamerican_50_pct_test, n_points=10, file_dir=\"../results/fpdp/50pct\", categorical_features=cst.CATEGORICAL_COLUMNS)\n",
    "\n",
    "is_afroamerican_avg_test = is_afroamerican_avg.loc[X_test.index]\n",
    "fairness_partial_dependance_plots(X_test, model, is_afroamerican_avg_test, n_points=10, file_dir=\"../results/fpdp/avg\", categorical_features=cst.CATEGORICAL_COLUMNS)\n",
    "\n",
    "is_afroamerican_qb_test = is_afroamerican_qb.loc[X_test.index]\n",
    "fairness_partial_dependance_plots(X_test, model, is_afroamerican_qb_test, n_points=10, file_dir=\"../results/fpdp/qb\", categorical_features=cst.CATEGORICAL_COLUMNS)\n",
    "\n",
    "is_afroamerican_rb_test = is_afroamerican_rb.loc[X_test.index]\n",
    "fairness_partial_dependance_plots(X_test, model, is_afroamerican_rb_test, n_points=10, file_dir=\"../results/fpdp/rb\", categorical_features=cst.CATEGORICAL_COLUMNS)"
   ]
  }
 ],
 "metadata": {
  "kernelspec": {
   "display_name": ".venv",
   "language": "python",
   "name": "python3"
  },
  "language_info": {
   "codemirror_mode": {
    "name": "ipython",
    "version": 3
   },
   "file_extension": ".py",
   "mimetype": "text/x-python",
   "name": "python",
   "nbconvert_exporter": "python",
   "pygments_lexer": "ipython3",
   "version": "3.13.2"
  }
 },
 "nbformat": 4,
 "nbformat_minor": 5
}
