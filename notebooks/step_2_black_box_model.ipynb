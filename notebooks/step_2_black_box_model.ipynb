{
 "cells": [
  {
   "cell_type": "markdown",
   "id": "39142799",
   "metadata": {},
   "source": [
    "# Black Box Model"
   ]
  },
  {
   "cell_type": "code",
   "execution_count": 16,
   "id": "40e1e3fa",
   "metadata": {},
   "outputs": [],
   "source": [
    "# Add parent directory to Python path to import src modules\n",
    "import  sys\n",
    "import os\n",
    "sys.path.append(os.path.dirname(os.path.dirname(os.path.abspath('__file__'))))"
   ]
  },
  {
   "cell_type": "markdown",
   "id": "2ef0abb7",
   "metadata": {},
   "source": [
    "## XGBoost"
   ]
  },
  {
   "cell_type": "markdown",
   "id": "11870e98",
   "metadata": {},
   "source": [
    "For a black box surrogate model, we use an XGBoost model:"
   ]
  },
  {
   "cell_type": "code",
   "execution_count": 17,
   "id": "2df5a7f6",
   "metadata": {},
   "outputs": [],
   "source": [
    "from xgboost import XGBClassifier"
   ]
  },
  {
   "cell_type": "markdown",
   "id": "58f5e89d",
   "metadata": {},
   "source": [
    "First get the data:"
   ]
  },
  {
   "cell_type": "code",
   "execution_count": 18,
   "id": "59d0bd81",
   "metadata": {},
   "outputs": [],
   "source": [
    "from src.preprocessing import get_data\n",
    "\n",
    "df_oh, prob, predictions, true_labels = get_data()"
   ]
  },
  {
   "cell_type": "code",
   "execution_count": 19,
   "id": "43532a75",
   "metadata": {},
   "outputs": [
    {
     "data": {
      "application/vnd.microsoft.datawrangler.viewer.v0+json": {
       "columns": [
        {
         "name": "index",
         "rawType": "int64",
         "type": "integer"
        },
        {
         "name": "Pct_afro_american",
         "rawType": "float64",
         "type": "float"
        },
        {
         "name": "annual_inc",
         "rawType": "float64",
         "type": "float"
        },
        {
         "name": "avg_cur_bal",
         "rawType": "float64",
         "type": "float"
        },
        {
         "name": "bc_open_to_buy",
         "rawType": "float64",
         "type": "float"
        },
        {
         "name": "bc_util",
         "rawType": "float64",
         "type": "float"
        },
        {
         "name": "delinq_2yrs",
         "rawType": "float64",
         "type": "float"
        },
        {
         "name": "dti",
         "rawType": "float64",
         "type": "float"
        },
        {
         "name": "fico_range_high",
         "rawType": "float64",
         "type": "float"
        },
        {
         "name": "funded_amnt",
         "rawType": "float64",
         "type": "float"
        },
        {
         "name": "inq_last_6mths",
         "rawType": "float64",
         "type": "float"
        },
        {
         "name": "int_rate",
         "rawType": "float64",
         "type": "float"
        },
        {
         "name": "issue_d",
         "rawType": "float64",
         "type": "float"
        },
        {
         "name": "mo_sin_old_rev_tl_op",
         "rawType": "float64",
         "type": "float"
        },
        {
         "name": "mo_sin_rcnt_rev_tl_op",
         "rawType": "float64",
         "type": "float"
        },
        {
         "name": "mo_sin_rcnt_tl",
         "rawType": "float64",
         "type": "float"
        },
        {
         "name": "mort_acc",
         "rawType": "float64",
         "type": "float"
        },
        {
         "name": "mths_since_recent_bc",
         "rawType": "float64",
         "type": "float"
        },
        {
         "name": "num_actv_bc_tl",
         "rawType": "float64",
         "type": "float"
        },
        {
         "name": "num_bc_tl",
         "rawType": "float64",
         "type": "float"
        },
        {
         "name": "num_il_tl",
         "rawType": "float64",
         "type": "float"
        },
        {
         "name": "num_rev_accts",
         "rawType": "float64",
         "type": "float"
        },
        {
         "name": "open_acc",
         "rawType": "float64",
         "type": "float"
        },
        {
         "name": "pub_rec",
         "rawType": "float64",
         "type": "float"
        },
        {
         "name": "pub_rec_bankruptcies",
         "rawType": "float64",
         "type": "float"
        },
        {
         "name": "revol_bal",
         "rawType": "float64",
         "type": "float"
        },
        {
         "name": "revol_util",
         "rawType": "float64",
         "type": "float"
        },
        {
         "name": "tax_liens",
         "rawType": "float64",
         "type": "float"
        },
        {
         "name": "zip_code",
         "rawType": "float64",
         "type": "float"
        },
        {
         "name": "loan duration",
         "rawType": "int64",
         "type": "integer"
        },
        {
         "name": "sub_grade_A2",
         "rawType": "float64",
         "type": "float"
        },
        {
         "name": "sub_grade_A3",
         "rawType": "float64",
         "type": "float"
        },
        {
         "name": "sub_grade_A4",
         "rawType": "float64",
         "type": "float"
        },
        {
         "name": "sub_grade_A5",
         "rawType": "float64",
         "type": "float"
        },
        {
         "name": "sub_grade_B1",
         "rawType": "float64",
         "type": "float"
        },
        {
         "name": "sub_grade_B2",
         "rawType": "float64",
         "type": "float"
        },
        {
         "name": "sub_grade_B3",
         "rawType": "float64",
         "type": "float"
        },
        {
         "name": "sub_grade_B4",
         "rawType": "float64",
         "type": "float"
        },
        {
         "name": "sub_grade_B5",
         "rawType": "float64",
         "type": "float"
        },
        {
         "name": "sub_grade_C1",
         "rawType": "float64",
         "type": "float"
        },
        {
         "name": "sub_grade_C2",
         "rawType": "float64",
         "type": "float"
        },
        {
         "name": "sub_grade_C3",
         "rawType": "float64",
         "type": "float"
        },
        {
         "name": "sub_grade_C4",
         "rawType": "float64",
         "type": "float"
        },
        {
         "name": "sub_grade_C5",
         "rawType": "float64",
         "type": "float"
        },
        {
         "name": "sub_grade_D1",
         "rawType": "float64",
         "type": "float"
        },
        {
         "name": "sub_grade_D2",
         "rawType": "float64",
         "type": "float"
        },
        {
         "name": "sub_grade_D3",
         "rawType": "float64",
         "type": "float"
        },
        {
         "name": "sub_grade_D4",
         "rawType": "float64",
         "type": "float"
        },
        {
         "name": "sub_grade_D5",
         "rawType": "float64",
         "type": "float"
        },
        {
         "name": "sub_grade_E1",
         "rawType": "float64",
         "type": "float"
        },
        {
         "name": "sub_grade_E2",
         "rawType": "float64",
         "type": "float"
        },
        {
         "name": "sub_grade_E3",
         "rawType": "float64",
         "type": "float"
        },
        {
         "name": "sub_grade_E4",
         "rawType": "float64",
         "type": "float"
        },
        {
         "name": "sub_grade_E5",
         "rawType": "float64",
         "type": "float"
        },
        {
         "name": "sub_grade_F1",
         "rawType": "float64",
         "type": "float"
        },
        {
         "name": "sub_grade_F2",
         "rawType": "float64",
         "type": "float"
        },
        {
         "name": "sub_grade_F3",
         "rawType": "float64",
         "type": "float"
        },
        {
         "name": "sub_grade_F4",
         "rawType": "float64",
         "type": "float"
        },
        {
         "name": "sub_grade_F5",
         "rawType": "float64",
         "type": "float"
        },
        {
         "name": "sub_grade_G1",
         "rawType": "float64",
         "type": "float"
        },
        {
         "name": "sub_grade_G2",
         "rawType": "float64",
         "type": "float"
        },
        {
         "name": "sub_grade_G3",
         "rawType": "float64",
         "type": "float"
        },
        {
         "name": "sub_grade_G4",
         "rawType": "float64",
         "type": "float"
        },
        {
         "name": "sub_grade_G5",
         "rawType": "float64",
         "type": "float"
        },
        {
         "name": "purpose_credit_card",
         "rawType": "float64",
         "type": "float"
        },
        {
         "name": "purpose_debt_consolidation",
         "rawType": "float64",
         "type": "float"
        },
        {
         "name": "purpose_home_improvement",
         "rawType": "float64",
         "type": "float"
        },
        {
         "name": "purpose_house",
         "rawType": "float64",
         "type": "float"
        },
        {
         "name": "purpose_major_purchase",
         "rawType": "float64",
         "type": "float"
        },
        {
         "name": "purpose_medical",
         "rawType": "float64",
         "type": "float"
        },
        {
         "name": "purpose_moving",
         "rawType": "float64",
         "type": "float"
        },
        {
         "name": "purpose_other",
         "rawType": "float64",
         "type": "float"
        },
        {
         "name": "purpose_renewable_energy",
         "rawType": "float64",
         "type": "float"
        },
        {
         "name": "purpose_small_business",
         "rawType": "float64",
         "type": "float"
        },
        {
         "name": "purpose_vacation",
         "rawType": "float64",
         "type": "float"
        },
        {
         "name": "purpose_wedding",
         "rawType": "float64",
         "type": "float"
        },
        {
         "name": "home_ownership_OWN",
         "rawType": "float64",
         "type": "float"
        },
        {
         "name": "home_ownership_RENT",
         "rawType": "float64",
         "type": "float"
        },
        {
         "name": "grade_B",
         "rawType": "float64",
         "type": "float"
        },
        {
         "name": "grade_C",
         "rawType": "float64",
         "type": "float"
        },
        {
         "name": "grade_D",
         "rawType": "float64",
         "type": "float"
        },
        {
         "name": "grade_E",
         "rawType": "float64",
         "type": "float"
        },
        {
         "name": "grade_F",
         "rawType": "float64",
         "type": "float"
        },
        {
         "name": "grade_G",
         "rawType": "float64",
         "type": "float"
        },
        {
         "name": "emp_title_account manager",
         "rawType": "float64",
         "type": "float"
        },
        {
         "name": "emp_title_accountant",
         "rawType": "float64",
         "type": "float"
        },
        {
         "name": "emp_title_administrative assistant",
         "rawType": "float64",
         "type": "float"
        },
        {
         "name": "emp_title_administrator",
         "rawType": "float64",
         "type": "float"
        },
        {
         "name": "emp_title_analyst",
         "rawType": "float64",
         "type": "float"
        },
        {
         "name": "emp_title_assistant manager",
         "rawType": "float64",
         "type": "float"
        },
        {
         "name": "emp_title_associate",
         "rawType": "float64",
         "type": "float"
        },
        {
         "name": "emp_title_attorney",
         "rawType": "float64",
         "type": "float"
        },
        {
         "name": "emp_title_branch manager",
         "rawType": "float64",
         "type": "float"
        },
        {
         "name": "emp_title_business analyst",
         "rawType": "float64",
         "type": "float"
        },
        {
         "name": "emp_title_chief executive officer",
         "rawType": "float64",
         "type": "float"
        },
        {
         "name": "emp_title_clerk",
         "rawType": "float64",
         "type": "float"
        },
        {
         "name": "emp_title_consultant",
         "rawType": "float64",
         "type": "float"
        },
        {
         "name": "emp_title_controller",
         "rawType": "float64",
         "type": "float"
        },
        {
         "name": "emp_title_customer service",
         "rawType": "float64",
         "type": "float"
        },
        {
         "name": "emp_title_customer service representative",
         "rawType": "float64",
         "type": "float"
        },
        {
         "name": "emp_title_director",
         "rawType": "float64",
         "type": "float"
        },
        {
         "name": "emp_title_driver",
         "rawType": "float64",
         "type": "float"
        },
        {
         "name": "emp_title_electrician",
         "rawType": "float64",
         "type": "float"
        },
        {
         "name": "emp_title_engineer",
         "rawType": "float64",
         "type": "float"
        },
        {
         "name": "emp_title_executive assistant",
         "rawType": "float64",
         "type": "float"
        },
        {
         "name": "emp_title_financial analyst",
         "rawType": "float64",
         "type": "float"
        },
        {
         "name": "emp_title_foreman",
         "rawType": "float64",
         "type": "float"
        },
        {
         "name": "emp_title_general manager",
         "rawType": "float64",
         "type": "float"
        },
        {
         "name": "emp_title_machine operator",
         "rawType": "float64",
         "type": "float"
        },
        {
         "name": "emp_title_maintenance",
         "rawType": "float64",
         "type": "float"
        },
        {
         "name": "emp_title_manager",
         "rawType": "float64",
         "type": "float"
        },
        {
         "name": "emp_title_mechanic",
         "rawType": "float64",
         "type": "float"
        },
        {
         "name": "emp_title_nurse",
         "rawType": "float64",
         "type": "float"
        },
        {
         "name": "emp_title_office manager",
         "rawType": "float64",
         "type": "float"
        },
        {
         "name": "emp_title_operations manager",
         "rawType": "float64",
         "type": "float"
        },
        {
         "name": "emp_title_operator",
         "rawType": "float64",
         "type": "float"
        },
        {
         "name": "emp_title_other",
         "rawType": "float64",
         "type": "float"
        },
        {
         "name": "emp_title_owner",
         "rawType": "float64",
         "type": "float"
        },
        {
         "name": "emp_title_paralegal",
         "rawType": "float64",
         "type": "float"
        },
        {
         "name": "emp_title_police officer",
         "rawType": "float64",
         "type": "float"
        },
        {
         "name": "emp_title_president",
         "rawType": "float64",
         "type": "float"
        },
        {
         "name": "emp_title_program manager",
         "rawType": "float64",
         "type": "float"
        },
        {
         "name": "emp_title_project manager",
         "rawType": "float64",
         "type": "float"
        },
        {
         "name": "emp_title_sales",
         "rawType": "float64",
         "type": "float"
        },
        {
         "name": "emp_title_sales manager",
         "rawType": "float64",
         "type": "float"
        },
        {
         "name": "emp_title_server",
         "rawType": "float64",
         "type": "float"
        },
        {
         "name": "emp_title_software engineer",
         "rawType": "float64",
         "type": "float"
        },
        {
         "name": "emp_title_store manager",
         "rawType": "float64",
         "type": "float"
        },
        {
         "name": "emp_title_superintendent",
         "rawType": "float64",
         "type": "float"
        },
        {
         "name": "emp_title_supervisor",
         "rawType": "float64",
         "type": "float"
        },
        {
         "name": "emp_title_teacher",
         "rawType": "float64",
         "type": "float"
        },
        {
         "name": "emp_title_technician",
         "rawType": "float64",
         "type": "float"
        },
        {
         "name": "emp_title_truck driver",
         "rawType": "float64",
         "type": "float"
        },
        {
         "name": "emp_title_vice president",
         "rawType": "float64",
         "type": "float"
        },
        {
         "name": "emp_length_10+ years",
         "rawType": "float64",
         "type": "float"
        },
        {
         "name": "emp_length_2 years",
         "rawType": "float64",
         "type": "float"
        },
        {
         "name": "emp_length_3 years",
         "rawType": "float64",
         "type": "float"
        },
        {
         "name": "emp_length_4 years",
         "rawType": "float64",
         "type": "float"
        },
        {
         "name": "emp_length_5 years",
         "rawType": "float64",
         "type": "float"
        },
        {
         "name": "emp_length_6 years",
         "rawType": "float64",
         "type": "float"
        },
        {
         "name": "emp_length_7 years",
         "rawType": "float64",
         "type": "float"
        },
        {
         "name": "emp_length_8 years",
         "rawType": "float64",
         "type": "float"
        },
        {
         "name": "emp_length_9 years",
         "rawType": "float64",
         "type": "float"
        },
        {
         "name": "emp_length_< 1 year",
         "rawType": "float64",
         "type": "float"
        }
       ],
       "ref": "558e7a3d-83a2-4a83-8fcd-c2ceaa77f061",
       "rows": [
        [
         "0",
         "-0.4572002615311431",
         "-0.7405115337127312",
         "-0.7450816600057045",
         "0.7494792717591136",
         "-1.586996938683601",
         "-0.3703840278513214",
         "-1.8806438183211829",
         "2.106130183675866",
         "-1.180039080624245",
         "1.439967211428596",
         "-0.5888812788973602",
         "-1.687634900525249",
         "0.4859886234753429",
         "0.741332947019108",
         "2.006288406329055",
         "-0.8185020414940745",
         "0.06262688756477028",
         "-0.7649099889346495",
         "-0.8354551139068259",
         "-1.0492394877664446",
         "-0.9052644191837592",
         "-1.577899585561004",
         "-0.3844552739184694",
         "-0.3592523198634548",
         "-0.5916430796588964",
         "-1.5055754201884646",
         "-0.1567551169956825",
         "0.8605166829888032",
         "0",
         "0.0",
         "0.0",
         "0.0",
         "0.0",
         "0.0",
         "1.0",
         "0.0",
         "0.0",
         "0.0",
         "0.0",
         "0.0",
         "0.0",
         "0.0",
         "0.0",
         "0.0",
         "0.0",
         "0.0",
         "0.0",
         "0.0",
         "0.0",
         "0.0",
         "0.0",
         "0.0",
         "0.0",
         "0.0",
         "0.0",
         "0.0",
         "0.0",
         "0.0",
         "0.0",
         "0.0",
         "0.0",
         "0.0",
         "0.0",
         "0.0",
         "0.0",
         "1.0",
         "0.0",
         "0.0",
         "0.0",
         "0.0",
         "0.0",
         "0.0",
         "0.0",
         "0.0",
         "0.0",
         "0.0",
         "0.0",
         "1.0",
         "0.0",
         "0.0",
         "0.0",
         "0.0",
         "0.0",
         "0.0",
         "0.0",
         "0.0",
         "0.0",
         "0.0",
         "0.0",
         "0.0",
         "0.0",
         "0.0",
         "0.0",
         "0.0",
         "0.0",
         "0.0",
         "0.0",
         "0.0",
         "0.0",
         "0.0",
         "0.0",
         "0.0",
         "0.0",
         "0.0",
         "0.0",
         "0.0",
         "0.0",
         "0.0",
         "0.0",
         "0.0",
         "0.0",
         "0.0",
         "0.0",
         "0.0",
         "0.0",
         "1.0",
         "0.0",
         "0.0",
         "0.0",
         "0.0",
         "0.0",
         "0.0",
         "0.0",
         "0.0",
         "0.0",
         "0.0",
         "0.0",
         "0.0",
         "0.0",
         "0.0",
         "0.0",
         "0.0",
         "0.0",
         "0.0",
         "1.0",
         "0.0",
         "0.0",
         "0.0",
         "0.0",
         "0.0",
         "0.0",
         "0.0",
         "0.0"
        ],
        [
         "1",
         "-0.26192464631945045",
         "-0.47096486734556847",
         "-0.2505077207951272",
         "0.41693701051425613",
         "-0.2426287982523309",
         "-0.3703840278513214",
         "0.5302761620113906",
         "1.2580444215114095",
         "1.1803865997284964",
         "-0.6947202731729133",
         "-0.5888812788973602",
         "-1.687634900525249",
         "1.643008302064565",
         "0.18565113262715346",
         "-0.199908641834748",
         "1.2212354419102527",
         "-0.24581780536612166",
         "-0.7649099889346495",
         "0.00731855074332712",
         "-0.09444349065088366",
         "0.08109462802253493",
         "0.38107805460511723",
         "-0.3844552739184694",
         "-0.3592523198634548",
         "0.8420383684198534",
         "0.3428992513440179",
         "-0.1567551169956825",
         "-0.1037665491535545",
         "0",
         "0.0",
         "0.0",
         "0.0",
         "0.0",
         "0.0",
         "1.0",
         "0.0",
         "0.0",
         "0.0",
         "0.0",
         "0.0",
         "0.0",
         "0.0",
         "0.0",
         "0.0",
         "0.0",
         "0.0",
         "0.0",
         "0.0",
         "0.0",
         "0.0",
         "0.0",
         "0.0",
         "0.0",
         "0.0",
         "0.0",
         "0.0",
         "0.0",
         "0.0",
         "0.0",
         "0.0",
         "0.0",
         "0.0",
         "0.0",
         "0.0",
         "1.0",
         "0.0",
         "0.0",
         "0.0",
         "0.0",
         "0.0",
         "0.0",
         "0.0",
         "0.0",
         "0.0",
         "0.0",
         "1.0",
         "0.0",
         "1.0",
         "0.0",
         "0.0",
         "0.0",
         "0.0",
         "0.0",
         "0.0",
         "0.0",
         "0.0",
         "0.0",
         "0.0",
         "0.0",
         "0.0",
         "0.0",
         "0.0",
         "0.0",
         "0.0",
         "0.0",
         "0.0",
         "0.0",
         "0.0",
         "0.0",
         "0.0",
         "0.0",
         "0.0",
         "0.0",
         "0.0",
         "0.0",
         "0.0",
         "0.0",
         "0.0",
         "0.0",
         "0.0",
         "0.0",
         "0.0",
         "0.0",
         "0.0",
         "0.0",
         "1.0",
         "0.0",
         "0.0",
         "0.0",
         "0.0",
         "0.0",
         "0.0",
         "0.0",
         "0.0",
         "0.0",
         "0.0",
         "0.0",
         "0.0",
         "0.0",
         "0.0",
         "0.0",
         "0.0",
         "0.0",
         "1.0",
         "0.0",
         "0.0",
         "0.0",
         "0.0",
         "0.0",
         "0.0",
         "0.0",
         "0.0",
         "0.0"
        ],
        [
         "2",
         "-0.444418349471714",
         "4.254853309221569",
         "2.3902792167355544",
         "0.24893490956713904",
         "0.2268330920570014",
         "-0.3703840278513214",
         "0.01922737324609535",
         "1.7668958788100835",
         "1.281168819788501",
         "0.3726234691278413",
         "-1.2822649544936342",
         "-1.687634900525249",
         "0.5842261433555599",
         "-0.49351552940745763",
         "-0.6643711782902855",
         "1.7311698127613344",
         "-0.6228057633927674",
         "0.10435199479313866",
         "0.00731855074332712",
         "0.3147547938272139",
         "0.08109462802253493",
         "0.5591669309838555",
         "-0.3844552739184694",
         "-0.3592523198634548",
         "0.5307501406464321",
         "0.07239076282706919",
         "-0.1567551169956825",
         "1.382703283783502",
         "0",
         "0.0",
         "1.0",
         "0.0",
         "0.0",
         "0.0",
         "0.0",
         "0.0",
         "0.0",
         "0.0",
         "0.0",
         "0.0",
         "0.0",
         "0.0",
         "0.0",
         "0.0",
         "0.0",
         "0.0",
         "0.0",
         "0.0",
         "0.0",
         "0.0",
         "0.0",
         "0.0",
         "0.0",
         "0.0",
         "0.0",
         "0.0",
         "0.0",
         "0.0",
         "0.0",
         "0.0",
         "0.0",
         "0.0",
         "0.0",
         "0.0",
         "1.0",
         "0.0",
         "0.0",
         "0.0",
         "0.0",
         "0.0",
         "0.0",
         "0.0",
         "0.0",
         "0.0",
         "0.0",
         "0.0",
         "0.0",
         "0.0",
         "0.0",
         "0.0",
         "0.0",
         "0.0",
         "0.0",
         "0.0",
         "0.0",
         "0.0",
         "0.0",
         "0.0",
         "0.0",
         "0.0",
         "0.0",
         "0.0",
         "0.0",
         "0.0",
         "0.0",
         "0.0",
         "0.0",
         "0.0",
         "0.0",
         "0.0",
         "0.0",
         "0.0",
         "0.0",
         "0.0",
         "0.0",
         "0.0",
         "0.0",
         "0.0",
         "0.0",
         "0.0",
         "0.0",
         "0.0",
         "0.0",
         "0.0",
         "0.0",
         "0.0",
         "0.0",
         "0.0",
         "0.0",
         "0.0",
         "0.0",
         "0.0",
         "0.0",
         "1.0",
         "0.0",
         "0.0",
         "0.0",
         "0.0",
         "0.0",
         "0.0",
         "0.0",
         "0.0",
         "0.0",
         "0.0",
         "0.0",
         "0.0",
         "0.0",
         "1.0",
         "0.0",
         "0.0",
         "0.0",
         "0.0",
         "0.0"
        ],
        [
         "3",
         "-0.5226930351393246",
         "0.8417624039230809",
         "1.3671976850563914",
         "-0.4260781974264489",
         "1.1479742253154646",
         "-0.3703840278513214",
         "-0.6337794123984488",
         "0.7491929642127358",
         "-0.41621593911684096",
         "0.3726234691278413",
         "-0.3831294463762106",
         "-1.687634900525249",
         "0.191276063834692",
         "-0.5552579532287859",
         "-0.43213991006251673",
         "0.7113010710591708",
         "2.1189248404373835",
         "-0.33027899707075536",
         "-0.8354551139068259",
         "-0.09444349065088366",
         "-0.7819695382829724",
         "-0.5093663272885742",
         "-0.3844552739184694",
         "-0.3592523198634548",
         "-0.2974697494873013",
         "0.5806188321619423",
         "-0.1567551169956825",
         "0.9470138499916061",
         "0",
         "0.0",
         "0.0",
         "0.0",
         "0.0",
         "0.0",
         "0.0",
         "1.0",
         "0.0",
         "0.0",
         "0.0",
         "0.0",
         "0.0",
         "0.0",
         "0.0",
         "0.0",
         "0.0",
         "0.0",
         "0.0",
         "0.0",
         "0.0",
         "0.0",
         "0.0",
         "0.0",
         "0.0",
         "0.0",
         "0.0",
         "0.0",
         "0.0",
         "0.0",
         "0.0",
         "0.0",
         "0.0",
         "0.0",
         "0.0",
         "0.0",
         "1.0",
         "0.0",
         "0.0",
         "0.0",
         "0.0",
         "0.0",
         "0.0",
         "0.0",
         "0.0",
         "0.0",
         "0.0",
         "0.0",
         "0.0",
         "1.0",
         "0.0",
         "0.0",
         "0.0",
         "0.0",
         "0.0",
         "0.0",
         "0.0",
         "0.0",
         "0.0",
         "0.0",
         "0.0",
         "0.0",
         "0.0",
         "0.0",
         "0.0",
         "0.0",
         "0.0",
         "0.0",
         "0.0",
         "0.0",
         "0.0",
         "0.0",
         "0.0",
         "0.0",
         "0.0",
         "0.0",
         "0.0",
         "0.0",
         "0.0",
         "0.0",
         "0.0",
         "0.0",
         "0.0",
         "0.0",
         "0.0",
         "0.0",
         "0.0",
         "1.0",
         "0.0",
         "0.0",
         "0.0",
         "0.0",
         "0.0",
         "0.0",
         "0.0",
         "0.0",
         "0.0",
         "0.0",
         "0.0",
         "0.0",
         "0.0",
         "0.0",
         "0.0",
         "0.0",
         "0.0",
         "1.0",
         "0.0",
         "0.0",
         "0.0",
         "0.0",
         "0.0",
         "0.0",
         "0.0",
         "0.0",
         "0.0"
        ],
        [
         "4",
         "-0.48451652123804934",
         "-0.15591032224109264",
         "0.630499280428354",
         "-0.3420771469528904",
         "0.49712933193207187",
         "0.7293408932950454",
         "0.5610337280018943",
         "-0.9469785601161769",
         "1.2387342008158675",
         "0.3726234691278413",
         "1.2587701771425626",
         "-1.687634900525249",
         "1.29371934249046",
         "-0.5552579532287859",
         "-0.43213991006251673",
         "1.2212354419102527",
         "-0.6570773959406442",
         "0.5389829866570327",
         "0.6393987992309419",
         "-0.640041203288347",
         "0.2043895089233217",
         "-0.33127745090983596",
         "-0.3844552739184694",
         "-0.3592523198634548",
         "0.4170331148281127",
         "1.2281997592176677",
         "-0.1567551169956825",
         "0.924588658546435",
         "1",
         "0.0",
         "0.0",
         "0.0",
         "0.0",
         "0.0",
         "0.0",
         "0.0",
         "0.0",
         "0.0",
         "0.0",
         "0.0",
         "0.0",
         "0.0",
         "0.0",
         "0.0",
         "0.0",
         "0.0",
         "0.0",
         "1.0",
         "0.0",
         "0.0",
         "0.0",
         "0.0",
         "0.0",
         "0.0",
         "0.0",
         "0.0",
         "0.0",
         "0.0",
         "0.0",
         "0.0",
         "0.0",
         "0.0",
         "0.0",
         "0.0",
         "1.0",
         "0.0",
         "0.0",
         "0.0",
         "0.0",
         "0.0",
         "0.0",
         "0.0",
         "0.0",
         "0.0",
         "0.0",
         "0.0",
         "0.0",
         "0.0",
         "0.0",
         "1.0",
         "0.0",
         "0.0",
         "0.0",
         "0.0",
         "0.0",
         "0.0",
         "0.0",
         "0.0",
         "0.0",
         "0.0",
         "0.0",
         "0.0",
         "0.0",
         "0.0",
         "0.0",
         "0.0",
         "0.0",
         "0.0",
         "0.0",
         "0.0",
         "0.0",
         "0.0",
         "0.0",
         "0.0",
         "0.0",
         "0.0",
         "0.0",
         "0.0",
         "0.0",
         "0.0",
         "0.0",
         "0.0",
         "0.0",
         "0.0",
         "0.0",
         "1.0",
         "0.0",
         "0.0",
         "0.0",
         "0.0",
         "0.0",
         "0.0",
         "0.0",
         "0.0",
         "0.0",
         "0.0",
         "0.0",
         "0.0",
         "0.0",
         "0.0",
         "0.0",
         "0.0",
         "0.0",
         "0.0",
         "0.0",
         "0.0",
         "0.0",
         "0.0",
         "1.0",
         "0.0",
         "0.0",
         "0.0",
         "0.0"
        ]
       ],
       "shape": {
        "columns": 143,
        "rows": 5
       }
      },
      "text/html": [
       "<div>\n",
       "<style scoped>\n",
       "    .dataframe tbody tr th:only-of-type {\n",
       "        vertical-align: middle;\n",
       "    }\n",
       "\n",
       "    .dataframe tbody tr th {\n",
       "        vertical-align: top;\n",
       "    }\n",
       "\n",
       "    .dataframe thead th {\n",
       "        text-align: right;\n",
       "    }\n",
       "</style>\n",
       "<table border=\"1\" class=\"dataframe\">\n",
       "  <thead>\n",
       "    <tr style=\"text-align: right;\">\n",
       "      <th></th>\n",
       "      <th>Pct_afro_american</th>\n",
       "      <th>annual_inc</th>\n",
       "      <th>avg_cur_bal</th>\n",
       "      <th>bc_open_to_buy</th>\n",
       "      <th>bc_util</th>\n",
       "      <th>delinq_2yrs</th>\n",
       "      <th>dti</th>\n",
       "      <th>fico_range_high</th>\n",
       "      <th>funded_amnt</th>\n",
       "      <th>inq_last_6mths</th>\n",
       "      <th>...</th>\n",
       "      <th>emp_length_10+ years</th>\n",
       "      <th>emp_length_2 years</th>\n",
       "      <th>emp_length_3 years</th>\n",
       "      <th>emp_length_4 years</th>\n",
       "      <th>emp_length_5 years</th>\n",
       "      <th>emp_length_6 years</th>\n",
       "      <th>emp_length_7 years</th>\n",
       "      <th>emp_length_8 years</th>\n",
       "      <th>emp_length_9 years</th>\n",
       "      <th>emp_length_&lt; 1 year</th>\n",
       "    </tr>\n",
       "  </thead>\n",
       "  <tbody>\n",
       "    <tr>\n",
       "      <th>0</th>\n",
       "      <td>-0.457200</td>\n",
       "      <td>-0.740512</td>\n",
       "      <td>-0.745082</td>\n",
       "      <td>0.749479</td>\n",
       "      <td>-1.586997</td>\n",
       "      <td>-0.370384</td>\n",
       "      <td>-1.880644</td>\n",
       "      <td>2.106130</td>\n",
       "      <td>-1.180039</td>\n",
       "      <td>1.439967</td>\n",
       "      <td>...</td>\n",
       "      <td>0.0</td>\n",
       "      <td>1.0</td>\n",
       "      <td>0.0</td>\n",
       "      <td>0.0</td>\n",
       "      <td>0.0</td>\n",
       "      <td>0.0</td>\n",
       "      <td>0.0</td>\n",
       "      <td>0.0</td>\n",
       "      <td>0.0</td>\n",
       "      <td>0.0</td>\n",
       "    </tr>\n",
       "    <tr>\n",
       "      <th>1</th>\n",
       "      <td>-0.261925</td>\n",
       "      <td>-0.470965</td>\n",
       "      <td>-0.250508</td>\n",
       "      <td>0.416937</td>\n",
       "      <td>-0.242629</td>\n",
       "      <td>-0.370384</td>\n",
       "      <td>0.530276</td>\n",
       "      <td>1.258044</td>\n",
       "      <td>1.180387</td>\n",
       "      <td>-0.694720</td>\n",
       "      <td>...</td>\n",
       "      <td>1.0</td>\n",
       "      <td>0.0</td>\n",
       "      <td>0.0</td>\n",
       "      <td>0.0</td>\n",
       "      <td>0.0</td>\n",
       "      <td>0.0</td>\n",
       "      <td>0.0</td>\n",
       "      <td>0.0</td>\n",
       "      <td>0.0</td>\n",
       "      <td>0.0</td>\n",
       "    </tr>\n",
       "    <tr>\n",
       "      <th>2</th>\n",
       "      <td>-0.444418</td>\n",
       "      <td>4.254853</td>\n",
       "      <td>2.390279</td>\n",
       "      <td>0.248935</td>\n",
       "      <td>0.226833</td>\n",
       "      <td>-0.370384</td>\n",
       "      <td>0.019227</td>\n",
       "      <td>1.766896</td>\n",
       "      <td>1.281169</td>\n",
       "      <td>0.372623</td>\n",
       "      <td>...</td>\n",
       "      <td>0.0</td>\n",
       "      <td>0.0</td>\n",
       "      <td>0.0</td>\n",
       "      <td>0.0</td>\n",
       "      <td>1.0</td>\n",
       "      <td>0.0</td>\n",
       "      <td>0.0</td>\n",
       "      <td>0.0</td>\n",
       "      <td>0.0</td>\n",
       "      <td>0.0</td>\n",
       "    </tr>\n",
       "    <tr>\n",
       "      <th>3</th>\n",
       "      <td>-0.522693</td>\n",
       "      <td>0.841762</td>\n",
       "      <td>1.367198</td>\n",
       "      <td>-0.426078</td>\n",
       "      <td>1.147974</td>\n",
       "      <td>-0.370384</td>\n",
       "      <td>-0.633779</td>\n",
       "      <td>0.749193</td>\n",
       "      <td>-0.416216</td>\n",
       "      <td>0.372623</td>\n",
       "      <td>...</td>\n",
       "      <td>1.0</td>\n",
       "      <td>0.0</td>\n",
       "      <td>0.0</td>\n",
       "      <td>0.0</td>\n",
       "      <td>0.0</td>\n",
       "      <td>0.0</td>\n",
       "      <td>0.0</td>\n",
       "      <td>0.0</td>\n",
       "      <td>0.0</td>\n",
       "      <td>0.0</td>\n",
       "    </tr>\n",
       "    <tr>\n",
       "      <th>4</th>\n",
       "      <td>-0.484517</td>\n",
       "      <td>-0.155910</td>\n",
       "      <td>0.630499</td>\n",
       "      <td>-0.342077</td>\n",
       "      <td>0.497129</td>\n",
       "      <td>0.729341</td>\n",
       "      <td>0.561034</td>\n",
       "      <td>-0.946979</td>\n",
       "      <td>1.238734</td>\n",
       "      <td>0.372623</td>\n",
       "      <td>...</td>\n",
       "      <td>0.0</td>\n",
       "      <td>0.0</td>\n",
       "      <td>0.0</td>\n",
       "      <td>0.0</td>\n",
       "      <td>0.0</td>\n",
       "      <td>1.0</td>\n",
       "      <td>0.0</td>\n",
       "      <td>0.0</td>\n",
       "      <td>0.0</td>\n",
       "      <td>0.0</td>\n",
       "    </tr>\n",
       "  </tbody>\n",
       "</table>\n",
       "<p>5 rows × 143 columns</p>\n",
       "</div>"
      ],
      "text/plain": [
       "   Pct_afro_american  annual_inc  avg_cur_bal  bc_open_to_buy   bc_util  \\\n",
       "0          -0.457200   -0.740512    -0.745082        0.749479 -1.586997   \n",
       "1          -0.261925   -0.470965    -0.250508        0.416937 -0.242629   \n",
       "2          -0.444418    4.254853     2.390279        0.248935  0.226833   \n",
       "3          -0.522693    0.841762     1.367198       -0.426078  1.147974   \n",
       "4          -0.484517   -0.155910     0.630499       -0.342077  0.497129   \n",
       "\n",
       "   delinq_2yrs       dti  fico_range_high  funded_amnt  inq_last_6mths  ...  \\\n",
       "0    -0.370384 -1.880644         2.106130    -1.180039        1.439967  ...   \n",
       "1    -0.370384  0.530276         1.258044     1.180387       -0.694720  ...   \n",
       "2    -0.370384  0.019227         1.766896     1.281169        0.372623  ...   \n",
       "3    -0.370384 -0.633779         0.749193    -0.416216        0.372623  ...   \n",
       "4     0.729341  0.561034        -0.946979     1.238734        0.372623  ...   \n",
       "\n",
       "   emp_length_10+ years  emp_length_2 years  emp_length_3 years  \\\n",
       "0                   0.0                 1.0                 0.0   \n",
       "1                   1.0                 0.0                 0.0   \n",
       "2                   0.0                 0.0                 0.0   \n",
       "3                   1.0                 0.0                 0.0   \n",
       "4                   0.0                 0.0                 0.0   \n",
       "\n",
       "   emp_length_4 years  emp_length_5 years  emp_length_6 years  \\\n",
       "0                 0.0                 0.0                 0.0   \n",
       "1                 0.0                 0.0                 0.0   \n",
       "2                 0.0                 1.0                 0.0   \n",
       "3                 0.0                 0.0                 0.0   \n",
       "4                 0.0                 0.0                 1.0   \n",
       "\n",
       "   emp_length_7 years  emp_length_8 years  emp_length_9 years  \\\n",
       "0                 0.0                 0.0                 0.0   \n",
       "1                 0.0                 0.0                 0.0   \n",
       "2                 0.0                 0.0                 0.0   \n",
       "3                 0.0                 0.0                 0.0   \n",
       "4                 0.0                 0.0                 0.0   \n",
       "\n",
       "   emp_length_< 1 year  \n",
       "0                  0.0  \n",
       "1                  0.0  \n",
       "2                  0.0  \n",
       "3                  0.0  \n",
       "4                  0.0  \n",
       "\n",
       "[5 rows x 143 columns]"
      ]
     },
     "execution_count": 19,
     "metadata": {},
     "output_type": "execute_result"
    }
   ],
   "source": [
    "df_oh.head()"
   ]
  },
  {
   "cell_type": "code",
   "execution_count": 20,
   "id": "13d5f19b",
   "metadata": {},
   "outputs": [],
   "source": [
    "rename_columns = {\"emp_length_< 1 year\": \"emp_length_less_1_year\"}\n",
    "df_oh = df_oh.rename(columns=rename_columns)"
   ]
  },
  {
   "cell_type": "markdown",
   "id": "035009d9",
   "metadata": {},
   "source": [
    "Split the data"
   ]
  },
  {
   "cell_type": "code",
   "execution_count": 21,
   "id": "c0583e72",
   "metadata": {},
   "outputs": [],
   "source": [
    "from sklearn.model_selection import train_test_split\n",
    "\n",
    "X_train, X_test, y_train, y_test = train_test_split(df_oh, true_labels, test_size=0.2, random_state=42)"
   ]
  },
  {
   "cell_type": "markdown",
   "id": "db2fd274",
   "metadata": {},
   "source": [
    "Train the model"
   ]
  },
  {
   "cell_type": "code",
   "execution_count": 24,
   "id": "0054cc44",
   "metadata": {},
   "outputs": [],
   "source": [
    "parameters = {\n",
    "    'n_estimators': 10,\n",
    "    'max_depth': 5,\n",
    "    'learning_rate': 0.1,\n",
    "    \"n_jobs\": -1,\n",
    "    'eval_metric': 'logloss'\n",
    "    }"
   ]
  },
  {
   "cell_type": "code",
   "execution_count": null,
   "id": "acab2273",
   "metadata": {},
   "outputs": [
    {
     "name": "stderr",
     "output_type": "stream",
     "text": [
      "/home/augustin/projects/xhec_dsb/02_interpretability_stability_fairness/.venv/lib64/python3.13/site-packages/xgboost/core.py:726: FutureWarning: Pass `objective` as keyword args.\n",
      "  warnings.warn(msg, FutureWarning)\n"
     ]
    },
    {
     "ename": "XGBoostError",
     "evalue": "[16:06:23] /workspace/src/objective/objective.cc:28: Unknown objective function: `{'n_estimators': 10, 'max_depth': 5, 'learning_rate': 0.1, 'n_jobs': -1, 'eval_metric': 'logloss'}`\nObjective candidate: rank:ndcg\nObjective candidate: rank:pairwise\nObjective candidate: rank:map\nObjective candidate: survival:aft\nObjective candidate: binary:hinge\nObjective candidate: multi:softmax\nObjective candidate: multi:softprob\nObjective candidate: reg:quantileerror\nObjective candidate: reg:squarederror\nObjective candidate: reg:logistic\nObjective candidate: binary:logistic\nObjective candidate: binary:logitraw\nObjective candidate: reg:gamma\nObjective candidate: reg:linear\nObjective candidate: reg:squaredlogerror\nObjective candidate: reg:pseudohubererror\nObjective candidate: count:poisson\nObjective candidate: survival:cox\nObjective candidate: reg:tweedie\nObjective candidate: reg:absoluteerror\n\nStack trace:\n  [bt] (0) /home/augustin/projects/xhec_dsb/02_interpretability_stability_fairness/.venv/lib64/python3.13/site-packages/xgboost/lib/libxgboost.so(+0x2a6e7c) [0x7f01416a6e7c]\n  [bt] (1) /home/augustin/projects/xhec_dsb/02_interpretability_stability_fairness/.venv/lib64/python3.13/site-packages/xgboost/lib/libxgboost.so(+0x8549be) [0x7f0141c549be]\n  [bt] (2) /home/augustin/projects/xhec_dsb/02_interpretability_stability_fairness/.venv/lib64/python3.13/site-packages/xgboost/lib/libxgboost.so(+0x67da11) [0x7f0141a7da11]\n  [bt] (3) /home/augustin/projects/xhec_dsb/02_interpretability_stability_fairness/.venv/lib64/python3.13/site-packages/xgboost/lib/libxgboost.so(+0x688a7b) [0x7f0141a88a7b]\n  [bt] (4) /home/augustin/projects/xhec_dsb/02_interpretability_stability_fairness/.venv/lib64/python3.13/site-packages/xgboost/lib/libxgboost.so(+0x68cfdf) [0x7f0141a8cfdf]\n  [bt] (5) /home/augustin/projects/xhec_dsb/02_interpretability_stability_fairness/.venv/lib64/python3.13/site-packages/xgboost/lib/libxgboost.so(XGBoosterUpdateOneIter+0x77) [0x7f01415b6f57]\n  [bt] (6) /lib64/libffi.so.8(+0x8056) [0x7f01a71f1056]\n  [bt] (7) /lib64/libffi.so.8(+0x3d08) [0x7f01a71ecd08]\n  [bt] (8) /lib64/libffi.so.8(ffi_call+0x12e) [0x7f01a71ef70e]\n\n",
     "output_type": "error",
     "traceback": [
      "\u001b[31m---------------------------------------------------------------------------\u001b[39m",
      "\u001b[31mXGBoostError\u001b[39m                              Traceback (most recent call last)",
      "\u001b[36mCell\u001b[39m\u001b[36m \u001b[39m\u001b[32mIn[25]\u001b[39m\u001b[32m, line 2\u001b[39m\n\u001b[32m      1\u001b[39m model = XGBClassifier(parameters)\n\u001b[32m----> \u001b[39m\u001b[32m2\u001b[39m \u001b[43mmodel\u001b[49m\u001b[43m.\u001b[49m\u001b[43mfit\u001b[49m\u001b[43m(\u001b[49m\u001b[43mX_train\u001b[49m\u001b[43m,\u001b[49m\u001b[43m \u001b[49m\u001b[43my_train\u001b[49m\u001b[43m)\u001b[49m\n",
      "\u001b[36mFile \u001b[39m\u001b[32m~/projects/xhec_dsb/02_interpretability_stability_fairness/.venv/lib64/python3.13/site-packages/xgboost/core.py:729\u001b[39m, in \u001b[36mrequire_keyword_args.<locals>.throw_if.<locals>.inner_f\u001b[39m\u001b[34m(*args, **kwargs)\u001b[39m\n\u001b[32m    727\u001b[39m \u001b[38;5;28;01mfor\u001b[39;00m k, arg \u001b[38;5;129;01min\u001b[39;00m \u001b[38;5;28mzip\u001b[39m(sig.parameters, args):\n\u001b[32m    728\u001b[39m     kwargs[k] = arg\n\u001b[32m--> \u001b[39m\u001b[32m729\u001b[39m \u001b[38;5;28;01mreturn\u001b[39;00m \u001b[43mfunc\u001b[49m\u001b[43m(\u001b[49m\u001b[43m*\u001b[49m\u001b[43m*\u001b[49m\u001b[43mkwargs\u001b[49m\u001b[43m)\u001b[49m\n",
      "\u001b[36mFile \u001b[39m\u001b[32m~/projects/xhec_dsb/02_interpretability_stability_fairness/.venv/lib64/python3.13/site-packages/xgboost/sklearn.py:1683\u001b[39m, in \u001b[36mXGBClassifier.fit\u001b[39m\u001b[34m(self, X, y, sample_weight, base_margin, eval_set, verbose, xgb_model, sample_weight_eval_set, base_margin_eval_set, feature_weights)\u001b[39m\n\u001b[32m   1661\u001b[39m model, metric, params, feature_weights = \u001b[38;5;28mself\u001b[39m._configure_fit(\n\u001b[32m   1662\u001b[39m     xgb_model, params, feature_weights\n\u001b[32m   1663\u001b[39m )\n\u001b[32m   1664\u001b[39m train_dmatrix, evals = _wrap_evaluation_matrices(\n\u001b[32m   1665\u001b[39m     missing=\u001b[38;5;28mself\u001b[39m.missing,\n\u001b[32m   1666\u001b[39m     X=X,\n\u001b[32m   (...)\u001b[39m\u001b[32m   1680\u001b[39m     feature_types=\u001b[38;5;28mself\u001b[39m.feature_types,\n\u001b[32m   1681\u001b[39m )\n\u001b[32m-> \u001b[39m\u001b[32m1683\u001b[39m \u001b[38;5;28mself\u001b[39m._Booster = \u001b[43mtrain\u001b[49m\u001b[43m(\u001b[49m\n\u001b[32m   1684\u001b[39m \u001b[43m    \u001b[49m\u001b[43mparams\u001b[49m\u001b[43m,\u001b[49m\n\u001b[32m   1685\u001b[39m \u001b[43m    \u001b[49m\u001b[43mtrain_dmatrix\u001b[49m\u001b[43m,\u001b[49m\n\u001b[32m   1686\u001b[39m \u001b[43m    \u001b[49m\u001b[38;5;28;43mself\u001b[39;49m\u001b[43m.\u001b[49m\u001b[43mget_num_boosting_rounds\u001b[49m\u001b[43m(\u001b[49m\u001b[43m)\u001b[49m\u001b[43m,\u001b[49m\n\u001b[32m   1687\u001b[39m \u001b[43m    \u001b[49m\u001b[43mevals\u001b[49m\u001b[43m=\u001b[49m\u001b[43mevals\u001b[49m\u001b[43m,\u001b[49m\n\u001b[32m   1688\u001b[39m \u001b[43m    \u001b[49m\u001b[43mearly_stopping_rounds\u001b[49m\u001b[43m=\u001b[49m\u001b[38;5;28;43mself\u001b[39;49m\u001b[43m.\u001b[49m\u001b[43mearly_stopping_rounds\u001b[49m\u001b[43m,\u001b[49m\n\u001b[32m   1689\u001b[39m \u001b[43m    \u001b[49m\u001b[43mevals_result\u001b[49m\u001b[43m=\u001b[49m\u001b[43mevals_result\u001b[49m\u001b[43m,\u001b[49m\n\u001b[32m   1690\u001b[39m \u001b[43m    \u001b[49m\u001b[43mobj\u001b[49m\u001b[43m=\u001b[49m\u001b[43mobj\u001b[49m\u001b[43m,\u001b[49m\n\u001b[32m   1691\u001b[39m \u001b[43m    \u001b[49m\u001b[43mcustom_metric\u001b[49m\u001b[43m=\u001b[49m\u001b[43mmetric\u001b[49m\u001b[43m,\u001b[49m\n\u001b[32m   1692\u001b[39m \u001b[43m    \u001b[49m\u001b[43mverbose_eval\u001b[49m\u001b[43m=\u001b[49m\u001b[43mverbose\u001b[49m\u001b[43m,\u001b[49m\n\u001b[32m   1693\u001b[39m \u001b[43m    \u001b[49m\u001b[43mxgb_model\u001b[49m\u001b[43m=\u001b[49m\u001b[43mmodel\u001b[49m\u001b[43m,\u001b[49m\n\u001b[32m   1694\u001b[39m \u001b[43m    \u001b[49m\u001b[43mcallbacks\u001b[49m\u001b[43m=\u001b[49m\u001b[38;5;28;43mself\u001b[39;49m\u001b[43m.\u001b[49m\u001b[43mcallbacks\u001b[49m\u001b[43m,\u001b[49m\n\u001b[32m   1695\u001b[39m \u001b[43m\u001b[49m\u001b[43m)\u001b[49m\n\u001b[32m   1697\u001b[39m \u001b[38;5;28;01mif\u001b[39;00m \u001b[38;5;129;01mnot\u001b[39;00m \u001b[38;5;28mcallable\u001b[39m(\u001b[38;5;28mself\u001b[39m.objective):\n\u001b[32m   1698\u001b[39m     \u001b[38;5;28mself\u001b[39m.objective = params[\u001b[33m\"\u001b[39m\u001b[33mobjective\u001b[39m\u001b[33m\"\u001b[39m]\n",
      "\u001b[36mFile \u001b[39m\u001b[32m~/projects/xhec_dsb/02_interpretability_stability_fairness/.venv/lib64/python3.13/site-packages/xgboost/core.py:729\u001b[39m, in \u001b[36mrequire_keyword_args.<locals>.throw_if.<locals>.inner_f\u001b[39m\u001b[34m(*args, **kwargs)\u001b[39m\n\u001b[32m    727\u001b[39m \u001b[38;5;28;01mfor\u001b[39;00m k, arg \u001b[38;5;129;01min\u001b[39;00m \u001b[38;5;28mzip\u001b[39m(sig.parameters, args):\n\u001b[32m    728\u001b[39m     kwargs[k] = arg\n\u001b[32m--> \u001b[39m\u001b[32m729\u001b[39m \u001b[38;5;28;01mreturn\u001b[39;00m \u001b[43mfunc\u001b[49m\u001b[43m(\u001b[49m\u001b[43m*\u001b[49m\u001b[43m*\u001b[49m\u001b[43mkwargs\u001b[49m\u001b[43m)\u001b[49m\n",
      "\u001b[36mFile \u001b[39m\u001b[32m~/projects/xhec_dsb/02_interpretability_stability_fairness/.venv/lib64/python3.13/site-packages/xgboost/training.py:183\u001b[39m, in \u001b[36mtrain\u001b[39m\u001b[34m(params, dtrain, num_boost_round, evals, obj, maximize, early_stopping_rounds, evals_result, verbose_eval, xgb_model, callbacks, custom_metric)\u001b[39m\n\u001b[32m    181\u001b[39m \u001b[38;5;28;01mif\u001b[39;00m cb_container.before_iteration(bst, i, dtrain, evals):\n\u001b[32m    182\u001b[39m     \u001b[38;5;28;01mbreak\u001b[39;00m\n\u001b[32m--> \u001b[39m\u001b[32m183\u001b[39m \u001b[43mbst\u001b[49m\u001b[43m.\u001b[49m\u001b[43mupdate\u001b[49m\u001b[43m(\u001b[49m\u001b[43mdtrain\u001b[49m\u001b[43m,\u001b[49m\u001b[43m \u001b[49m\u001b[43miteration\u001b[49m\u001b[43m=\u001b[49m\u001b[43mi\u001b[49m\u001b[43m,\u001b[49m\u001b[43m \u001b[49m\u001b[43mfobj\u001b[49m\u001b[43m=\u001b[49m\u001b[43mobj\u001b[49m\u001b[43m)\u001b[49m\n\u001b[32m    184\u001b[39m \u001b[38;5;28;01mif\u001b[39;00m cb_container.after_iteration(bst, i, dtrain, evals):\n\u001b[32m    185\u001b[39m     \u001b[38;5;28;01mbreak\u001b[39;00m\n",
      "\u001b[36mFile \u001b[39m\u001b[32m~/projects/xhec_dsb/02_interpretability_stability_fairness/.venv/lib64/python3.13/site-packages/xgboost/core.py:2246\u001b[39m, in \u001b[36mBooster.update\u001b[39m\u001b[34m(self, dtrain, iteration, fobj)\u001b[39m\n\u001b[32m   2243\u001b[39m \u001b[38;5;28mself\u001b[39m._assign_dmatrix_features(dtrain)\n\u001b[32m   2245\u001b[39m \u001b[38;5;28;01mif\u001b[39;00m fobj \u001b[38;5;129;01mis\u001b[39;00m \u001b[38;5;28;01mNone\u001b[39;00m:\n\u001b[32m-> \u001b[39m\u001b[32m2246\u001b[39m     \u001b[43m_check_call\u001b[49m\u001b[43m(\u001b[49m\n\u001b[32m   2247\u001b[39m \u001b[43m        \u001b[49m\u001b[43m_LIB\u001b[49m\u001b[43m.\u001b[49m\u001b[43mXGBoosterUpdateOneIter\u001b[49m\u001b[43m(\u001b[49m\n\u001b[32m   2248\u001b[39m \u001b[43m            \u001b[49m\u001b[38;5;28;43mself\u001b[39;49m\u001b[43m.\u001b[49m\u001b[43mhandle\u001b[49m\u001b[43m,\u001b[49m\u001b[43m \u001b[49m\u001b[43mctypes\u001b[49m\u001b[43m.\u001b[49m\u001b[43mc_int\u001b[49m\u001b[43m(\u001b[49m\u001b[43miteration\u001b[49m\u001b[43m)\u001b[49m\u001b[43m,\u001b[49m\u001b[43m \u001b[49m\u001b[43mdtrain\u001b[49m\u001b[43m.\u001b[49m\u001b[43mhandle\u001b[49m\n\u001b[32m   2249\u001b[39m \u001b[43m        \u001b[49m\u001b[43m)\u001b[49m\n\u001b[32m   2250\u001b[39m \u001b[43m    \u001b[49m\u001b[43m)\u001b[49m\n\u001b[32m   2251\u001b[39m \u001b[38;5;28;01melse\u001b[39;00m:\n\u001b[32m   2252\u001b[39m     pred = \u001b[38;5;28mself\u001b[39m.predict(dtrain, output_margin=\u001b[38;5;28;01mTrue\u001b[39;00m, training=\u001b[38;5;28;01mTrue\u001b[39;00m)\n",
      "\u001b[36mFile \u001b[39m\u001b[32m~/projects/xhec_dsb/02_interpretability_stability_fairness/.venv/lib64/python3.13/site-packages/xgboost/core.py:310\u001b[39m, in \u001b[36m_check_call\u001b[39m\u001b[34m(ret)\u001b[39m\n\u001b[32m    299\u001b[39m \u001b[38;5;250m\u001b[39m\u001b[33;03m\"\"\"Check the return value of C API call\u001b[39;00m\n\u001b[32m    300\u001b[39m \n\u001b[32m    301\u001b[39m \u001b[33;03mThis function will raise exception when error occurs.\u001b[39;00m\n\u001b[32m   (...)\u001b[39m\u001b[32m    307\u001b[39m \u001b[33;03m    return value from API calls\u001b[39;00m\n\u001b[32m    308\u001b[39m \u001b[33;03m\"\"\"\u001b[39;00m\n\u001b[32m    309\u001b[39m \u001b[38;5;28;01mif\u001b[39;00m ret != \u001b[32m0\u001b[39m:\n\u001b[32m--> \u001b[39m\u001b[32m310\u001b[39m     \u001b[38;5;28;01mraise\u001b[39;00m XGBoostError(py_str(_LIB.XGBGetLastError()))\n",
      "\u001b[31mXGBoostError\u001b[39m: [16:06:23] /workspace/src/objective/objective.cc:28: Unknown objective function: `{'n_estimators': 10, 'max_depth': 5, 'learning_rate': 0.1, 'n_jobs': -1, 'eval_metric': 'logloss'}`\nObjective candidate: rank:ndcg\nObjective candidate: rank:pairwise\nObjective candidate: rank:map\nObjective candidate: survival:aft\nObjective candidate: binary:hinge\nObjective candidate: multi:softmax\nObjective candidate: multi:softprob\nObjective candidate: reg:quantileerror\nObjective candidate: reg:squarederror\nObjective candidate: reg:logistic\nObjective candidate: binary:logistic\nObjective candidate: binary:logitraw\nObjective candidate: reg:gamma\nObjective candidate: reg:linear\nObjective candidate: reg:squaredlogerror\nObjective candidate: reg:pseudohubererror\nObjective candidate: count:poisson\nObjective candidate: survival:cox\nObjective candidate: reg:tweedie\nObjective candidate: reg:absoluteerror\n\nStack trace:\n  [bt] (0) /home/augustin/projects/xhec_dsb/02_interpretability_stability_fairness/.venv/lib64/python3.13/site-packages/xgboost/lib/libxgboost.so(+0x2a6e7c) [0x7f01416a6e7c]\n  [bt] (1) /home/augustin/projects/xhec_dsb/02_interpretability_stability_fairness/.venv/lib64/python3.13/site-packages/xgboost/lib/libxgboost.so(+0x8549be) [0x7f0141c549be]\n  [bt] (2) /home/augustin/projects/xhec_dsb/02_interpretability_stability_fairness/.venv/lib64/python3.13/site-packages/xgboost/lib/libxgboost.so(+0x67da11) [0x7f0141a7da11]\n  [bt] (3) /home/augustin/projects/xhec_dsb/02_interpretability_stability_fairness/.venv/lib64/python3.13/site-packages/xgboost/lib/libxgboost.so(+0x688a7b) [0x7f0141a88a7b]\n  [bt] (4) /home/augustin/projects/xhec_dsb/02_interpretability_stability_fairness/.venv/lib64/python3.13/site-packages/xgboost/lib/libxgboost.so(+0x68cfdf) [0x7f0141a8cfdf]\n  [bt] (5) /home/augustin/projects/xhec_dsb/02_interpretability_stability_fairness/.venv/lib64/python3.13/site-packages/xgboost/lib/libxgboost.so(XGBoosterUpdateOneIter+0x77) [0x7f01415b6f57]\n  [bt] (6) /lib64/libffi.so.8(+0x8056) [0x7f01a71f1056]\n  [bt] (7) /lib64/libffi.so.8(+0x3d08) [0x7f01a71ecd08]\n  [bt] (8) /lib64/libffi.so.8(ffi_call+0x12e) [0x7f01a71ef70e]\n\n"
     ]
    }
   ],
   "source": [
    "model = XGBClassifier(\n",
    "    n_estimators=10,\n",
    "    max_depth=5,\n",
    "    learning_rate=0.1,\n",
    "    n_jobs=-1,\n",
    "    eval_metric='logloss',\n",
    "    use_label_encoder=False\n",
    ")\n",
    "model.fit(X_train, y_train)"
   ]
  },
  {
   "cell_type": "code",
   "execution_count": null,
   "id": "c167c6c6",
   "metadata": {},
   "outputs": [],
   "source": []
  }
 ],
 "metadata": {
  "kernelspec": {
   "display_name": "02-interpretability-stability-fairness",
   "language": "python",
   "name": "python3"
  },
  "language_info": {
   "codemirror_mode": {
    "name": "ipython",
    "version": 3
   },
   "file_extension": ".py",
   "mimetype": "text/x-python",
   "name": "python",
   "nbconvert_exporter": "python",
   "pygments_lexer": "ipython3",
   "version": "3.13.7"
  }
 },
 "nbformat": 4,
 "nbformat_minor": 5
}
